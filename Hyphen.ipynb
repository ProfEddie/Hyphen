{
 "cells": [
  {
   "cell_type": "code",
   "execution_count": 1,
   "metadata": {},
   "outputs": [
    {
     "name": "stderr",
     "output_type": "stream",
     "text": [
      "/Users/admin/miniconda3/lib/python3.8/site-packages/tqdm/auto.py:21: TqdmWarning: IProgress not found. Please update jupyter and ipywidgets. See https://ipywidgets.readthedocs.io/en/stable/user_install.html\n",
      "  from .autonotebook import tqdm as notebook_tqdm\n"
     ]
    }
   ],
   "source": [
    "from hyptorch.lorentz.layers.LEmbed import LorentzEmbedding\n",
    "from hyptorch.lorentz.manifold import CustomLorentz \n",
    "import torch\n",
    "import torch.nn as nn\n",
    "\n"
   ]
  },
  {
   "cell_type": "code",
   "execution_count": 60,
   "metadata": {},
   "outputs": [],
   "source": [
    "\n",
    "manifold = CustomLorentz()\n",
    "\n",
    "input = torch.LongTensor([[ 4, 3, 2, 9, 123]])\n",
    "l_emb = LorentzEmbedding(manifold=manifold, num_embeddings=1000, embedding_dim=3, padding_idx=0)\n",
    "emb = nn.Embedding(num_embeddings=1000, embedding_dim=3, padding_idx=0)\n",
    "l_out = l_emb(input)\n",
    "out= emb(input)\n",
    "\n"
   ]
  },
  {
   "cell_type": "code",
   "execution_count": 61,
   "metadata": {},
   "outputs": [
    {
     "data": {
      "text/plain": [
       "Tensor on Lorentz manifold containing:\n",
       "tensor([[1., 0., 0.]])"
      ]
     },
     "execution_count": 61,
     "metadata": {},
     "output_type": "execute_result"
    }
   ],
   "source": [
    "manifold.origin((1,3))"
   ]
  },
  {
   "cell_type": "code",
   "execution_count": 74,
   "metadata": {},
   "outputs": [
    {
     "name": "stdout",
     "output_type": "stream",
     "text": [
      "tensor([[[-1.4005, -1.3181,  0.4317],\n",
      "         [ 2.6061,  0.9356,  1.6772],\n",
      "         [-0.7892,  0.5192,  0.9778],\n",
      "         [ 1.8911,  0.1575, -0.4635],\n",
      "         [ 0.0970,  0.0519,  0.3939]]], grad_fn=<EmbeddingBackward0>)\n",
      "tensor([[[ 1.5211, -0.5358, -1.0133],\n",
      "         [ 1.5426, -1.1682,  0.1221],\n",
      "         [ 1.4821, -0.0048,  1.0939],\n",
      "         [ 1.4343,  0.3159,  0.9784],\n",
      "         [ 1.5332,  0.3450, -1.1098]]], grad_fn=<EmbeddingBackward0>)\n",
      "tensor([[1.0000e-04, 1.0000e-04, 7.7653e-01, 1.0000e-04, 3.8525e-01]],\n",
      "       grad_fn=<SqrtBackward0>)\n",
      "tensor([[1.0000e-04, 1.0000e-04, 1.0000e-04, 1.0000e-04, 1.0000e-04]],\n",
      "       grad_fn=<SqrtBackward0>)\n"
     ]
    }
   ],
   "source": [
    "print(out)\n",
    "print(l_out)\n",
    "\n",
    "print(manifold.norm(out, dim=0))\n",
    "print(manifold.norm(l_out, dim=0))"
   ]
  },
  {
   "cell_type": "code",
   "execution_count": null,
   "metadata": {},
   "outputs": [],
   "source": []
  }
 ],
 "metadata": {
  "kernelspec": {
   "display_name": "Python 3 (ipykernel)",
   "language": "python",
   "name": "python3"
  },
  "language_info": {
   "codemirror_mode": {
    "name": "ipython",
    "version": 3
   },
   "file_extension": ".py",
   "mimetype": "text/x-python",
   "name": "python",
   "nbconvert_exporter": "python",
   "pygments_lexer": "ipython3",
   "version": "3.8.16"
  },
  "orig_nbformat": 4
 },
 "nbformat": 4,
 "nbformat_minor": 2
}
