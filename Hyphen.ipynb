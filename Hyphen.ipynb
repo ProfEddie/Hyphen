{
 "cells": [
  {
   "cell_type": "code",
   "execution_count": 16,
   "metadata": {},
   "outputs": [],
   "source": [
    "from hyptorch.lorentz.layers.LEmbed import LorentzEmbedding\n",
    "from hyptorch.lorentz.manifold import CustomLorentz \n",
    "import torch\n",
    "import pandas as pd\n",
    "import torch.nn as nn\n",
    "import pickle\n",
    "\n",
    "dataset = 'twitter16'\n",
    "df = pd.read_csv(f'data/{dataset}/{dataset}.csv')\n",
    "file = open(f'data/{dataset}/{dataset}_preprocessed.pkl', 'rb')\n",
    "props = pickle.load(file)"
   ]
  },
  {
   "cell_type": "code",
   "execution_count": 18,
   "metadata": {},
   "outputs": [],
   "source": [
    "\n",
    "id_train, id_test = props['train']['id'], props['val']['id']\n",
    "x_train, x_val = props['train']['x'], props['val']['x']\n",
    "y_train, y_val = props['train']['y'], props['val']['y']\n",
    "c_train, c_val = props['train']['c'], props['val']['c']\n",
    "raw_c_train, raw_c_test = props['train']['c'], props['val']['c'] \n",
    "sub_train, sub_val = props['train']['subgraphs'], props['val']['subgraphs']"
   ]
  },
  {
   "cell_type": "code",
   "execution_count": 21,
   "metadata": {},
   "outputs": [
    {
     "data": {
      "text/plain": [
       "37"
      ]
     },
     "execution_count": 21,
     "metadata": {},
     "output_type": "execute_result"
    }
   ],
   "source": [
    "\n",
    "len(df[df['id'].isin(id_test)])\n"
   ]
  },
  {
   "cell_type": "code",
   "execution_count": 22,
   "metadata": {},
   "outputs": [
    {
     "data": {
      "text/plain": [
       "325"
      ]
     },
     "execution_count": 22,
     "metadata": {},
     "output_type": "execute_result"
    }
   ],
   "source": [
    "len(df[df['id'].isin(id_train)])"
   ]
  },
  {
   "cell_type": "code",
   "execution_count": null,
   "metadata": {},
   "outputs": [],
   "source": []
  }
 ],
 "metadata": {
  "kernelspec": {
   "display_name": "Python 3 (ipykernel)",
   "language": "python",
   "name": "python3"
  },
  "language_info": {
   "codemirror_mode": {
    "name": "ipython",
    "version": 3
   },
   "file_extension": ".py",
   "mimetype": "text/x-python",
   "name": "python",
   "nbconvert_exporter": "python",
   "pygments_lexer": "ipython3",
   "version": "3.10.14"
  },
  "orig_nbformat": 4
 },
 "nbformat": 4,
 "nbformat_minor": 2
}
