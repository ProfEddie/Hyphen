{
 "cells": [
  {
   "cell_type": "code",
   "execution_count": 53,
   "metadata": {},
   "outputs": [],
   "source": [
    "from const import DATA_PATH\n",
    "from torch.utils.data import Dataset, DataLoader\n",
    "from transformers import AutoTokenizer, AutoModel\n",
    "from transformers import pipeline\n",
    "import pandas as pd\n",
    "\n",
    "TWITTER16= 'twitter16'\n",
    "TWITTER15= 'twitter15'\n",
    "PHEME = 'pheme'\n",
    "RUMOUREVAL= 'rumoureval'\n",
    "POLITIFACT= 'politifact'\n",
    "GOSSIPCOP= 'gossipcop'\n",
    "HASOC= 'hasoc'\n",
    "POLITIFACT= 'politifact'\n",
    "FIGLANG_TWITTER= 'figlang_twitter'\n",
    "FIGLANG_REDDIT= 'figlang_reddit'\n",
    "ANTIVAX= 'antivax'\n",
    "model_ckt = 'distilbert-base-uncased'"
   ]
  },
  {
   "cell_type": "code",
   "execution_count": 60,
   "metadata": {},
   "outputs": [],
   "source": [
    "class RawFakeNewsDataset(Dataset):\n",
    "    def __init__(self, path, model_ckt, max_comments=None, max_length_sentences=None):\n",
    "        super(RawFakeNewsDataset, self).__init__()\n",
    "        self.df = pd.read_csv(path)\n",
    "        self.df['comments'] = self.df['comments'].map(lambda x: x.split('::'), na_action='ignore')\n",
    "        self.tokenizer = AutoTokenizer.from_pretrained(model_ckt) \n",
    "\n",
    "    def __len__(self):\n",
    "        return len(self.df)\n",
    "\n",
    "    def collate_fn(self, samples):\n",
    "        \"\"\"Here, samples will be the sample returned by __getitem__ function\"\"\"\n",
    "        print(samples)\n",
    "\n",
    "    def __getitem__(self, index):\n",
    "        return self.df.iloc[index] \n"
   ]
  },
  {
   "cell_type": "code",
   "execution_count": null,
   "metadata": {},
   "outputs": [],
   "source": [
    "dataset = POLITIFACT"
   ]
  },
  {
   "cell_type": "code",
   "execution_count": 55,
   "metadata": {},
   "outputs": [
    {
     "name": "stdout",
     "output_type": "stream",
     "text": [
      "Unproven vaccine? Wtf? SOMETHING!!!\n"
     ]
    }
   ],
   "source": [
    "path = f'{DATA_PATH}/data/{dataset}/{dataset}.csv'\n",
    "ds = RawFakeNewsDataset(path, model_ckt)"
   ]
  },
  {
   "cell_type": "code",
   "execution_count": 56,
   "metadata": {},
   "outputs": [
    {
     "data": {
      "text/plain": [
       "'10K THB for an unlicensed, largely untested vaccine with an efficacy rate statistically below your own immune syste… https://t.co/vQYhSkv8xw'"
      ]
     },
     "execution_count": 56,
     "metadata": {},
     "output_type": "execute_result"
    }
   ],
   "source": [
    "ds[6]['text']"
   ]
  },
  {
   "cell_type": "code",
   "execution_count": 57,
   "metadata": {},
   "outputs": [
    {
     "data": {
      "text/plain": [
       "id                                                  antivax_6\n",
       "text        10K THB for an unlicensed, largely untested va...\n",
       "comments    [THB for admin. and a nurse to give the jab? T...\n",
       "labels                                                      1\n",
       "Name: 6, dtype: object"
      ]
     },
     "execution_count": 57,
     "metadata": {},
     "output_type": "execute_result"
    }
   ],
   "source": [
    "ds[6]"
   ]
  },
  {
   "cell_type": "code",
   "execution_count": 58,
   "metadata": {},
   "outputs": [
    {
     "data": {
      "text/plain": [
       "['THB for admin. and a nurse to give the jab? They really know how to take the piss.However, as is often the case here, the \"misunderstanding\" gambit is rolled out on cue to save face.',\n",
       " 'A perfect example of fear factor from the constant media coverage.']"
      ]
     },
     "execution_count": 58,
     "metadata": {},
     "output_type": "execute_result"
    }
   ],
   "source": [
    "ds[6]['comments']"
   ]
  },
  {
   "cell_type": "code",
   "execution_count": 59,
   "metadata": {},
   "outputs": [
    {
     "data": {
      "text/plain": [
       "3797"
      ]
     },
     "execution_count": 59,
     "metadata": {},
     "output_type": "execute_result"
    }
   ],
   "source": [
    "len(ds)"
   ]
  },
  {
   "cell_type": "code",
   "execution_count": null,
   "metadata": {},
   "outputs": [],
   "source": []
  }
 ],
 "metadata": {
  "kernelspec": {
   "display_name": "Python 3 (ipykernel)",
   "language": "python",
   "name": "python3"
  }
 },
 "nbformat": 4,
 "nbformat_minor": 2
}
